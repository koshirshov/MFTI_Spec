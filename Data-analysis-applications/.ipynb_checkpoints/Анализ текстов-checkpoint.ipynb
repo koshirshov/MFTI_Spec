{
 "cells": [
  {
   "cell_type": "code",
   "execution_count": 6,
   "metadata": {},
   "outputs": [],
   "source": [
    "import numpy as np\n",
    "import pandas as pd\n",
    "with open('C:/users/Kostya/python scripts/CSV/SMSSpamCollection.txt', 'r', encoding ='utf_8_sig' ) as f:\n",
    "    sms = f.read().splitlines()"
   ]
  },
  {
   "cell_type": "code",
   "execution_count": 15,
   "metadata": {},
   "outputs": [],
   "source": [
    "sms = open('C:/users/Kostya/python scripts/CSV/SMSSpamCollection.txt', 'r', encoding ='utf_8_sig')\n",
    "sms = sms.readlines() "
   ]
  },
  {
   "cell_type": "code",
   "execution_count": 38,
   "metadata": {},
   "outputs": [
    {
     "data": {
      "text/plain": [
       "\"ham\\tSorry, I'll call later in meeting.\\n\""
      ]
     },
     "execution_count": 38,
     "metadata": {},
     "output_type": "execute_result"
    },
    {
     "data": {
      "text/plain": [
       "5574"
      ]
     },
     "execution_count": 38,
     "metadata": {},
     "output_type": "execute_result"
    }
   ],
   "source": [
    "sms[57]\n",
    "len(sms)"
   ]
  },
  {
   "cell_type": "code",
   "execution_count": 44,
   "metadata": {},
   "outputs": [],
   "source": [
    "label,text = zip(*[line.split(\"\\t\") for line in sms])\n",
    "label = [1 if l == 'spam' else 0 for l in label]"
   ]
  },
  {
   "cell_type": "code",
   "execution_count": 79,
   "metadata": {},
   "outputs": [],
   "source": [
    "from sklearn.feature_extraction.text import CountVectorizer, TfidfVectorizer\n",
    "from sklearn.linear_model import LogisticRegression\n",
    "from sklearn.model_selection import cross_val_score\n",
    "from sklearn.pipeline import Pipeline\n",
    "from sklearn.naive_bayes import MultinomialNB"
   ]
  },
  {
   "cell_type": "code",
   "execution_count": 50,
   "metadata": {},
   "outputs": [
    {
     "data": {
      "text/plain": [
       "CountVectorizer(analyzer='word', binary=False, decode_error='strict',\n",
       "        dtype=<class 'numpy.int64'>, encoding='utf-8', input='content',\n",
       "        lowercase=True, max_df=1.0, max_features=None, min_df=1,\n",
       "        ngram_range=(1, 1), preprocessor=None, stop_words=None,\n",
       "        strip_accents=None, token_pattern='(?u)\\\\b\\\\w\\\\w+\\\\b',\n",
       "        tokenizer=None, vocabulary=None)"
      ]
     },
     "execution_count": 50,
     "metadata": {},
     "output_type": "execute_result"
    }
   ],
   "source": [
    "vec1 = CountVectorizer()\n",
    "vec1.fit(text)\n",
    "text_matrix = vec1.transform(text)"
   ]
  },
  {
   "cell_type": "code",
   "execution_count": 67,
   "metadata": {
    "collapsed": true
   },
   "outputs": [],
   "source": [
    "pipeline = Pipeline([('count_vect', CountVectorizer()), ('log_reg', LogisticRegression())])"
   ]
  },
  {
   "cell_type": "code",
   "execution_count": 69,
   "metadata": {},
   "outputs": [
    {
     "data": {
      "text/plain": [
       "0.93334852685794145"
      ]
     },
     "execution_count": 69,
     "metadata": {},
     "output_type": "execute_result"
    }
   ],
   "source": [
    "cross_val_score(pipeline, text, label, cv = 10, scoring='f1').mean()"
   ]
  },
  {
   "cell_type": "markdown",
   "metadata": {},
   "source": [
    "А теперь обучите классификатор на всей выборке и спрогнозируйте с его помощью класс для следующих сообщений:"
   ]
  },
  {
   "cell_type": "code",
   "execution_count": 64,
   "metadata": {},
   "outputs": [],
   "source": [
    "sms_test = [\"FreeMsg: Txt: CALL to No: 86888 & claim your reward of 3 hours talk time to use from your phone now! Subscribe6GB\",\n",
    "            \"FreeMsg: Txt: claim your reward of 3 hours talk time\",\n",
    "            \"Have you visited the last lecture on physics?\",\n",
    "            \"Have you visited the last lecture on physics? Just buy this book and you will have all materials! Only 99$\",\n",
    "            \"Only 99$\"]"
   ]
  },
  {
   "cell_type": "code",
   "execution_count": 65,
   "metadata": {},
   "outputs": [
    {
     "data": {
      "text/plain": [
       "LogisticRegression(C=1.0, class_weight=None, dual=False, fit_intercept=True,\n",
       "          intercept_scaling=1, max_iter=100, multi_class='ovr', n_jobs=1,\n",
       "          penalty='l2', random_state=None, solver='liblinear', tol=0.0001,\n",
       "          verbose=0, warm_start=False)"
      ]
     },
     "execution_count": 65,
     "metadata": {},
     "output_type": "execute_result"
    },
    {
     "data": {
      "text/plain": [
       "array([1, 1, 0, 0, 0])"
      ]
     },
     "execution_count": 65,
     "metadata": {},
     "output_type": "execute_result"
    }
   ],
   "source": [
    "lr = LogisticRegression()\n",
    "lr.fit(text_matrix, label)\n",
    "lr.predict(vec1.transform(sms_test))"
   ]
  },
  {
   "cell_type": "code",
   "execution_count": null,
   "metadata": {
    "collapsed": true
   },
   "outputs": [],
   "source": []
  },
  {
   "cell_type": "code",
   "execution_count": 70,
   "metadata": {},
   "outputs": [
    {
     "data": {
      "text/plain": [
       "array([ 0.828125  ,  0.8125    ,  0.8372093 ,  0.8372093 ,  0.85496183,\n",
       "        0.828125  ,  0.7704918 ,  0.78688525,  0.816     ,  0.85271318])"
      ]
     },
     "execution_count": 70,
     "metadata": {},
     "output_type": "execute_result"
    }
   ],
   "source": [
    "pipeline = Pipeline([('count_vect', CountVectorizer(ngram_range=(2, 2)))#только на биграмах\n",
    "                     , ('log_reg', LogisticRegression())])\n",
    "cross_val_score(pipeline, text, label, cv = 10, scoring='f1')"
   ]
  },
  {
   "cell_type": "code",
   "execution_count": 71,
   "metadata": {},
   "outputs": [
    {
     "data": {
      "text/plain": [
       "array([ 0.75      ,  0.71794872,  0.71794872,  0.75      ,  0.72881356,\n",
       "        0.71794872,  0.69565217,  0.71304348,  0.71304348,  0.74576271])"
      ]
     },
     "execution_count": 71,
     "metadata": {},
     "output_type": "execute_result"
    }
   ],
   "source": [
    "pipeline = Pipeline([('count_vect', CountVectorizer(ngram_range=(3, 3)))#только на 3грамах\n",
    "                     , ('log_reg', LogisticRegression())])\n",
    "cross_val_score(pipeline, text, label, cv = 10, scoring='f1')"
   ]
  },
  {
   "cell_type": "code",
   "execution_count": 74,
   "metadata": {},
   "outputs": [
    {
     "data": {
      "text/plain": [
       "0.92513825586488374"
      ]
     },
     "execution_count": 74,
     "metadata": {},
     "output_type": "execute_result"
    }
   ],
   "source": [
    "pipeline = Pipeline([('count_vect', CountVectorizer(ngram_range=(1, 3)))\n",
    "                     , ('log_reg', LogisticRegression())])\n",
    "cross_val_score(pipeline, text, label, cv = 10, scoring='f1').mean()"
   ]
  },
  {
   "cell_type": "code",
   "execution_count": 77,
   "metadata": {},
   "outputs": [
    {
     "name": "stdout",
     "output_type": "stream",
     "text": [
      "Ngram_range:  (2, 2)\n",
      "Cross-val-score f1: 0.8224\n",
      "\n",
      "Ngram_range:  (3, 3)\n",
      "Cross-val-score f1: 0.7250\n",
      "\n",
      "Ngram_range:  (1, 3)\n",
      "Cross-val-score f1: 0.9251\n",
      "\n"
     ]
    }
   ],
   "source": [
    "# testing log_reg the model in different ngram ranges\n",
    "ngram_range = [(2,2), (3,3), (1,3)]\n",
    "\n",
    "scores = []\n",
    "for ngram in ngram_range:\n",
    "    pipeline = Pipeline([('count_vect', CountVectorizer(ngram_range=ngram)), ('log_reg', LogisticRegression())])\n",
    "    score = cross_val_score(pipeline, text, label, scoring='f1', cv=10).mean()\n",
    "    scores.append(score)\n",
    "    print('Ngram_range: ', ngram)\n",
    "    print('Cross-val-score f1: %.4f\\n' % score)"
   ]
  },
  {
   "cell_type": "code",
   "execution_count": 80,
   "metadata": {},
   "outputs": [
    {
     "name": "stdout",
     "output_type": "stream",
     "text": [
      "Ngram_range:  (2, 2)\n",
      "Cross-val-score f1: 0.9337\n",
      "\n",
      "Ngram_range:  (3, 3)\n",
      "Cross-val-score f1: 0.8713\n",
      "\n",
      "Ngram_range:  (1, 3)\n",
      "Cross-val-score f1: 0.9473\n",
      "\n"
     ]
    }
   ],
   "source": [
    "# testing nb the model in different ngram ranges\n",
    "ngram_range = [(2,2), (3,3), (1,3)]\n",
    "\n",
    "scores = []\n",
    "for ngram in ngram_range:\n",
    "    pipeline = Pipeline([('count_vect', CountVectorizer(ngram_range=ngram)), ('nb', MultinomialNB())])\n",
    "    score = cross_val_score(pipeline, text, label, scoring='f1', cv=10).mean()\n",
    "    scores.append(score)\n",
    "    print('Ngram_range: ', ngram)\n",
    "    print('Cross-val-score f1: %.4f\\n' % score)"
   ]
  },
  {
   "cell_type": "code",
   "execution_count": 82,
   "metadata": {},
   "outputs": [
    {
     "data": {
      "text/plain": [
       "0.87851004553433965"
      ]
     },
     "execution_count": 82,
     "metadata": {},
     "output_type": "execute_result"
    }
   ],
   "source": [
    "pipeline = Pipeline([('count_vect', TfidfVectorizer())\n",
    "                     , ('log_reg', LogisticRegression())])\n",
    "cross_val_score(pipeline, text, label, cv = 10, scoring='f1').mean()"
   ]
  }
 ],
 "metadata": {
  "kernelspec": {
   "display_name": "Python 3",
   "language": "python",
   "name": "python3"
  },
  "language_info": {
   "codemirror_mode": {
    "name": "ipython",
    "version": 3
   },
   "file_extension": ".py",
   "mimetype": "text/x-python",
   "name": "python",
   "nbconvert_exporter": "python",
   "pygments_lexer": "ipython3",
   "version": "3.6.3"
  }
 },
 "nbformat": 4,
 "nbformat_minor": 2
}
