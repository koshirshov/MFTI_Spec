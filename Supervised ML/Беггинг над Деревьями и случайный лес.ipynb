{
 "cells": [
  {
   "cell_type": "code",
   "execution_count": 7,
   "metadata": {},
   "outputs": [],
   "source": [
    "import numpy as np\n",
    "import pandas as pd\n",
    "from sklearn import datasets, tree, ensemble\n",
    "from sklearn.model_selection import cross_val_score"
   ]
  },
  {
   "cell_type": "code",
   "execution_count": 5,
   "metadata": {},
   "outputs": [
    {
     "name": "stdout",
     "output_type": "stream",
     "text": [
      "(1797, 64) (1797,)\n"
     ]
    }
   ],
   "source": [
    "X = datasets.load_digits().data\n",
    "y = datasets.load_digits().target\n",
    "print(X.shape, y.shape)"
   ]
  },
  {
   "cell_type": "markdown",
   "metadata": {},
   "source": [
    "Бэггинг – технология классификации, где в отличие от бустинга все элементарные классификаторы обучаются и работают параллельно (независимо друг от друга). Идея заключается в том, что классификаторы не исправляют ошибки друг друга, а компенсируют их при голосовании. Базовые классификаторы должны быть независимыми, это могут быть классификаторы основанные на разных группах методов или же обученные на независимых наборах данных."
   ]
  },
  {
   "cell_type": "code",
   "execution_count": 8,
   "metadata": {},
   "outputs": [
    {
     "data": {
      "text/plain": [
       "0.8356243243059369"
      ]
     },
     "execution_count": 8,
     "metadata": {},
     "output_type": "execute_result"
    }
   ],
   "source": [
    "DTC = tree.DecisionTreeClassifier()\n",
    "cross_val_score(DTC, X, y, n_jobs=6, cv = 10, scoring='precision_macro').mean()\n",
    "#DecisionTreeClassifier"
   ]
  },
  {
   "cell_type": "code",
   "execution_count": 10,
   "metadata": {},
   "outputs": [
    {
     "name": "stdout",
     "output_type": "stream",
     "text": [
      "0.9273135634463202\n",
      "Wall time: 4.04 s\n"
     ]
    }
   ],
   "source": [
    "%%time\n",
    "BC = ensemble.BaggingClassifier(base_estimator = DTC, n_estimators=100)# базовое дерево передали. число деревьев - 100. \n",
    "print(cross_val_score(BC, X, y, n_jobs=6, cv = 10, scoring='precision_macro').mean())\n",
    "#max_feat в дереве - при каждом разбиении"
   ]
  },
  {
   "cell_type": "markdown",
   "metadata": {},
   "source": [
    "4) При большом количестве признаков (для данного датасета - 40, 50) качество классификации становится хуже, чем при малом количестве признаков (5, 10). Это связано с тем, что чем меньше признаков выбирается в каждом узле, тем более различными получаются деревья (ведь деревья сильно неустойчивы к изменениям в обучающей выборке), и тем лучше работает их композиция."
   ]
  },
  {
   "cell_type": "code",
   "execution_count": 12,
   "metadata": {},
   "outputs": [
    {
     "data": {
      "text/plain": [
       "0.932786098265564"
      ]
     },
     "execution_count": 12,
     "metadata": {},
     "output_type": "execute_result"
    }
   ],
   "source": [
    "BC = ensemble.BaggingClassifier(base_estimator = DTC, \n",
    "                                n_estimators=100, max_features = int(pow(X.shape[1], 0.5)))\n",
    "cross_val_score(BC, X, y, n_jobs=-1, cv = 10, scoring='precision_macro').mean()\n",
    "#бэггинг над DecisionTreeClassifier; 100 деревьев; макс фичей огр у каждого базового алгоритма;случ признаки\n",
    "#max_features в BaggingClassifier - макс фич у каждого алгоритма(дерева)"
   ]
  },
  {
   "cell_type": "code",
   "execution_count": 17,
   "metadata": {},
   "outputs": [
    {
     "data": {
      "text/plain": [
       "0.9370241668096192"
      ]
     },
     "execution_count": 17,
     "metadata": {},
     "output_type": "execute_result"
    }
   ],
   "source": [
    "BC = ensemble.BaggingClassifier(base_estimator = DTC, \n",
    "                                n_estimators=100, max_features = int(pow(X.shape[1], 0.5)), max_samples= 0.7)\n",
    "cross_val_score(BC, X, y, n_jobs=-1, cv = 10, scoring='precision_macro').mean()\n",
    "#бэггинг над DecisionTreeClassifier; 100 деревьев; макс фичей огр у каждого базового алгоритма;случ признаки\n",
    "#max_features в BaggingClassifier - макс фич у каждого алгоритма(дерева)"
   ]
  },
  {
   "cell_type": "code",
   "execution_count": 13,
   "metadata": {},
   "outputs": [],
   "source": [
    "# Наконец, попробуем выбрать случайные признаки не один раз на все дерево, а при построении каждой вершины дерева"
   ]
  },
  {
   "cell_type": "code",
   "execution_count": 19,
   "metadata": {},
   "outputs": [
    {
     "data": {
      "text/plain": [
       "0.9518898403685723"
      ]
     },
     "execution_count": 19,
     "metadata": {},
     "output_type": "execute_result"
    }
   ],
   "source": [
    "BC = ensemble.BaggingClassifier(base_estimator = tree.DecisionTreeClassifier\n",
    "                                (max_features = int(pow(X.shape[1], 0.5))), \n",
    "                                n_estimators=100)\n",
    "cross_val_score(BC, X, y, n_jobs=-1, cv = 10, scoring='precision_macro').mean()\n",
    "#бэггинг над рандомизированными деревьями; 100 деревьев; макс фичей огр у каждой вершины дерева\n",
    "\n",
    "#бэггинг на рандомизированных деревьях (в которых при построении каждой вершины\n",
    "#выбирается случайное подмножество признаков и разбиение ищется только по ним).\n",
    "#Это в точности соответствует алгоритму Random Forest"
   ]
  },
  {
   "cell_type": "code",
   "execution_count": 20,
   "metadata": {},
   "outputs": [
    {
     "data": {
      "text/plain": [
       "0.9521082937959873"
      ]
     },
     "execution_count": 20,
     "metadata": {},
     "output_type": "execute_result"
    }
   ],
   "source": [
    "RF = ensemble.RandomForestClassifier(max_depth=20,\n",
    "    n_estimators=100, max_features=int(pow(X.shape[1], 0.5)))\n",
    "cross_val_score(RF, X, y, n_jobs=-1, cv = 10, scoring='precision_macro').mean()\n",
    "#max_feat в RF - при каждом разбиении"
   ]
  },
  {
   "cell_type": "markdown",
   "metadata": {},
   "source": [
    "7) При небольшой максимальной глубине деревьев (5-6) качество работы случайного леса заметно хуже, чем без ограничений, т.к. деревья получаются недообученными. С ростом глубины качество сначала улучшается, а затем не меняется существенно, т.к. из-за усреднения прогнозов и различий деревьев их переобученность в бэггинге не сказывается на итоговом качестве (все деревья преобучены по-разному, и при усреднении они компенсируют переобученность друг-друга)."
   ]
  },
  {
   "cell_type": "code",
   "execution_count": 31,
   "metadata": {},
   "outputs": [
    {
     "data": {
      "text/plain": [
       "GridSearchCV(cv=None, error_score=nan,\n",
       "             estimator=RandomForestClassifier(bootstrap=True, ccp_alpha=0.0,\n",
       "                                              class_weight=None,\n",
       "                                              criterion='gini', max_depth=None,\n",
       "                                              max_features=8,\n",
       "                                              max_leaf_nodes=None,\n",
       "                                              max_samples=None,\n",
       "                                              min_impurity_decrease=0.0,\n",
       "                                              min_impurity_split=None,\n",
       "                                              min_samples_leaf=1,\n",
       "                                              min_samples_split=2,\n",
       "                                              min_weight_fraction_leaf=0.0,\n",
       "                                              n_estimators=100, n_jobs=None,\n",
       "                                              oob_score=False,\n",
       "                                              random_state=None, verbose=0,\n",
       "                                              warm_start=False),\n",
       "             iid='deprecated', n_jobs=None,\n",
       "             param_grid={'max_depth': [1, 2, 3, 5, 8, 10, 13, 17, 20, 25, 30]},\n",
       "             pre_dispatch='2*n_jobs', refit=True, return_train_score=False,\n",
       "             scoring=None, verbose=0)"
      ]
     },
     "execution_count": 31,
     "metadata": {},
     "output_type": "execute_result"
    }
   ],
   "source": [
    "from sklearn.model_selection import GridSearchCV\n",
    "params = {'max_depth':[1,2,3,5,8,10, 13, 17, 20, 25, 30]}\n",
    "clf = ensemble.RandomForestClassifier(n_estimators=100, max_features=int(pow(X.shape[1], 0.5)))\n",
    "optimizer = GridSearchCV(estimator=clf, param_grid=params)\n",
    "optimizer.fit(X, y)"
   ]
  },
  {
   "cell_type": "code",
   "execution_count": 68,
   "metadata": {},
   "outputs": [],
   "source": [
    "md = optimizer.cv_results_['params']\n",
    "score = optimizer.cv_results_['mean_test_score']\n",
    "md = list(map(lambda x: x['max_depth'], md))"
   ]
  },
  {
   "cell_type": "code",
   "execution_count": 69,
   "metadata": {},
   "outputs": [
    {
     "name": "stdout",
     "output_type": "stream",
     "text": [
      "Populating the interactive namespace from numpy and matplotlib\n"
     ]
    },
    {
     "data": {
      "text/plain": [
       "<matplotlib.legend.Legend at 0x1aacf06b4c8>"
      ]
     },
     "execution_count": 69,
     "metadata": {},
     "output_type": "execute_result"
    },
    {
     "data": {
      "image/png": "[encoded data removed]",
      "text/plain": [
       "<Figure size 432x288 with 1 Axes>"
      ]
     },
     "metadata": {
      "needs_background": "light"
     },
     "output_type": "display_data"
    }
   ],
   "source": [
    "import matplotlib.pyplot as plt\n",
    "\n",
    "%pylab inline\n",
    "pylab.plot(md, score, marker='.', label='RandomForest')\n",
    "pylab.grid(True)\n",
    "pylab.xlabel('n_trees')\n",
    "pylab.ylabel('score')\n",
    "pylab.title('Accuracy score')\n",
    "pylab.legend(loc='lower right')"
   ]
  }
 ],
 "metadata": {
  "kernelspec": {
   "display_name": "Python 3",
   "language": "python",
   "name": "python3"
  },
  "language_info": {
   "codemirror_mode": {
    "name": "ipython",
    "version": 3
   },
   "file_extension": ".py",
   "mimetype": "text/x-python",
   "name": "python",
   "nbconvert_exporter": "python",
   "pygments_lexer": "ipython3",
   "version": "3.7.7"
  }
 },
 "nbformat": 4,
 "nbformat_minor": 2
}
